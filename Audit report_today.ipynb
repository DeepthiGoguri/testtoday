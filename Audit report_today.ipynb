{
    "metadata": {
        "kernelspec": {
            "name": "SQL",
            "display_name": "SQL",
            "language": "sql"
        },
        "language_info": {
            "name": "sql",
            "version": ""
        }
    },
    "nbformat_minor": 2,
    "nbformat": 4,
    "cells": [
        {
            "cell_type": "markdown",
            "source": [
                "Server role membership  \n",
                "\n",
                "Source code: [https://docs.microsoft.com/en-us/sql/relational-databases/system-catalog-views/sys-server-role-members-transact-sql?view=sql-server-ver15](https://docs.microsoft.com/en-us/sql/relational-databases/system-catalog-views/sys-server-role-members-transact-sql?view=sql-server-ver15)"
            ],
            "metadata": {
                "azdata_cell_guid": "7ee44972-e3d3-445c-a9db-962e5ead3f84"
            },
            "attachments": {}
        },
        {
            "cell_type": "code",
            "source": [
                "SELECT\troles.principal_id\t\t\t\t\t\t\tAS RolePrincipalID\r\n",
                "\t,\troles.name\t\t\t\t\t\t\t\t\tAS RolePrincipalName\r\n",
                "\t,\tserver_role_members.member_principal_id\t\tAS MemberPrincipalID\r\n",
                "\t,\tmembers.name\t\t\t\t\t\t\t\tAS MemberPrincipalName\r\n",
                "FROM sys.server_role_members AS server_role_members\r\n",
                "INNER JOIN sys.server_principals AS roles\r\n",
                "    ON server_role_members.role_principal_id = roles.principal_id\r\n",
                "INNER JOIN sys.server_principals AS members \r\n",
                "    ON server_role_members.member_principal_id = members.principal_id  \r\n",
                ";"
            ],
            "metadata": {
                "azdata_cell_guid": "fcabeab1-a755-4270-b785-e9f25ce5f6d3"
            },
            "outputs": [
                {
                    "output_type": "display_data",
                    "data": {
                        "text/html": "(6 rows affected)"
                    },
                    "metadata": {}
                },
                {
                    "output_type": "display_data",
                    "data": {
                        "text/html": "Total execution time: 00:00:00.010"
                    },
                    "metadata": {}
                },
                {
                    "output_type": "execute_result",
                    "execution_count": 1,
                    "data": {
                        "application/vnd.dataresource+json": {
                            "schema": {
                                "fields": [
                                    {
                                        "name": "RolePrincipalID"
                                    },
                                    {
                                        "name": "RolePrincipalName"
                                    },
                                    {
                                        "name": "MemberPrincipalID"
                                    },
                                    {
                                        "name": "MemberPrincipalName"
                                    }
                                ]
                            },
                            "data": [
                                {
                                    "0": "3",
                                    "1": "sysadmin",
                                    "2": "1",
                                    "3": "sa"
                                },
                                {
                                    "0": "3",
                                    "1": "sysadmin",
                                    "2": "259",
                                    "3": "DESKTOP-SV5TDG6\\deept"
                                },
                                {
                                    "0": "3",
                                    "1": "sysadmin",
                                    "2": "260",
                                    "3": "NT SERVICE\\SQLWriter"
                                },
                                {
                                    "0": "3",
                                    "1": "sysadmin",
                                    "2": "261",
                                    "3": "NT SERVICE\\Winmgmt"
                                },
                                {
                                    "0": "3",
                                    "1": "sysadmin",
                                    "2": "262",
                                    "3": "NT Service\\MSSQLSERVER"
                                },
                                {
                                    "0": "3",
                                    "1": "sysadmin",
                                    "2": "264",
                                    "3": "NT SERVICE\\SQLSERVERAGENT"
                                }
                            ]
                        },
                        "text/html": "<table><tr><th>RolePrincipalID</th><th>RolePrincipalName</th><th>MemberPrincipalID</th><th>MemberPrincipalName</th></tr><tr><td>3</td><td>sysadmin</td><td>1</td><td>sa</td></tr><tr><td>3</td><td>sysadmin</td><td>259</td><td>DESKTOP-SV5TDG6\\deept</td></tr><tr><td>3</td><td>sysadmin</td><td>260</td><td>NT SERVICE\\SQLWriter</td></tr><tr><td>3</td><td>sysadmin</td><td>261</td><td>NT SERVICE\\Winmgmt</td></tr><tr><td>3</td><td>sysadmin</td><td>262</td><td>NT Service\\MSSQLSERVER</td></tr><tr><td>3</td><td>sysadmin</td><td>264</td><td>NT SERVICE\\SQLSERVERAGENT</td></tr></table>"
                    },
                    "metadata": {}
                }
            ],
            "execution_count": 1
        },
        {
            "cell_type": "markdown",
            "source": [
                "Orpahn user list\n",
                "\n",
                "Source code: http://sql-articles.com/scripts/identify-orphan-users-in-all-the-databases/"
            ],
            "metadata": {
                "azdata_cell_guid": "1779a7e5-7945-466f-abb2-add2f2d6cc11"
            },
            "attachments": {}
        },
        {
            "cell_type": "code",
            "source": [
                "DECLARE @OrphanUser TABLE( DatabaseName VARCHAR(255),\r\n",
                "                           UserName     VARCHAR(255),\r\n",
                "                           DropScript   VARCHAR(1024));\r\n",
                "DECLARE @SQL VARCHAR(MAX);\r\n",
                "IF( SELECT SUBSTRING(CONVERT( VARCHAR(25), SERVERPROPERTY('ProductVersion')), 1, CHARINDEX('.', CONVERT(VARCHAR(25), SERVERPROPERTY('ProductVersion'))) - 1)) < 12\r\n",
                "    BEGIN\r\n",
                "        SET @SQL = 'SELECT ''?'' [DatabaseName],a.name,''USE [?]; DROP LOGIN [''+a.name+''];''\r\n",
                "FROM ?.sys.database_principals a\r\n",
                "LEFT OUTER JOIN sys.server_principals  b on a.sid=b.sid\r\n",
                "WHERE a.type = ''S'' \r\n",
                "AND a.name NOT IN (''dbo'',''sys'',''INFORMATION_SCHEMA'',''guest'') AND a.name NOT LIKE ''%##%'' AND DB_ID(''?'') > 4\r\n",
                "AND b.sid IS NULL';\r\n",
                "    END;\r\n",
                "ELSE\r\n",
                "    BEGIN\r\n",
                "        SET @SQL = 'SELECT ''?'' [DatabaseName],a.name,''USE [?]; DROP LOGIN [''+a.name+''];''\r\n",
                "FROM ?.sys.database_principals a\r\n",
                "LEFT OUTER JOIN sys.server_principals  b on a.sid=b.sid\r\n",
                "WHERE a.type = ''S'' \r\n",
                "AND a.name NOT IN (''dbo'',''sys'',''INFORMATION_SCHEMA'',''guest'') AND a.name NOT LIKE ''%##%'' AND DB_ID(''?'') > 4\r\n",
                "AND b.sid IS NULL AND a.authentication_type=1';\r\n",
                "    END;\r\n",
                "INSERT INTO @OrphanUser\r\n",
                "EXEC sp_MSforeachdb\r\n",
                "     @SQL;\r\n",
                "SELECT *\r\n",
                "FROM @OrphanUser\r\n",
                "ORDER BY DatabaseName;"
            ],
            "metadata": {
                "azdata_cell_guid": "b213bb33-2bf0-4994-9043-3ff86cf0bd75"
            },
            "outputs": [
                {
                    "output_type": "display_data",
                    "data": {
                        "text/html": "(0 rows affected)"
                    },
                    "metadata": {}
                },
                {
                    "output_type": "display_data",
                    "data": {
                        "text/html": "(0 rows affected)"
                    },
                    "metadata": {}
                },
                {
                    "output_type": "display_data",
                    "data": {
                        "text/html": "Total execution time: 00:00:00.160"
                    },
                    "metadata": {}
                },
                {
                    "output_type": "execute_result",
                    "execution_count": 2,
                    "data": {
                        "application/vnd.dataresource+json": {
                            "schema": {
                                "fields": [
                                    {
                                        "name": "DatabaseName"
                                    },
                                    {
                                        "name": "UserName"
                                    },
                                    {
                                        "name": "DropScript"
                                    }
                                ]
                            },
                            "data": []
                        },
                        "text/html": "<table><tr><th>DatabaseName</th><th>UserName</th><th>DropScript</th></tr></table>"
                    },
                    "metadata": {}
                }
            ],
            "execution_count": 2
        },
        {
            "cell_type": "markdown",
            "source": [
                "Database level information"
            ],
            "metadata": {
                "azdata_cell_guid": "c9158be1-4f3a-42f2-8c50-92802e7402e6"
            },
            "attachments": {}
        },
        {
            "cell_type": "code",
            "source": [
                "SELECT name,compatibility_level,recovery_model_desc,state_desc  FROM sys.databases"
            ],
            "metadata": {
                "azdata_cell_guid": "85a4ee70-f824-4df9-b16a-492c303aff51"
            },
            "outputs": [
                {
                    "output_type": "display_data",
                    "data": {
                        "text/html": "(10 rows affected)"
                    },
                    "metadata": {}
                },
                {
                    "output_type": "display_data",
                    "data": {
                        "text/html": "Total execution time: 00:00:00.027"
                    },
                    "metadata": {}
                },
                {
                    "output_type": "execute_result",
                    "execution_count": 6,
                    "data": {
                        "application/vnd.dataresource+json": {
                            "schema": {
                                "fields": [
                                    {
                                        "name": "name"
                                    },
                                    {
                                        "name": "compatibility_level"
                                    },
                                    {
                                        "name": "recovery_model_desc"
                                    },
                                    {
                                        "name": "state_desc"
                                    }
                                ]
                            },
                            "data": [
                                {
                                    "0": "master",
                                    "1": "150",
                                    "2": "SIMPLE",
                                    "3": "ONLINE"
                                },
                                {
                                    "0": "tempdb",
                                    "1": "150",
                                    "2": "SIMPLE",
                                    "3": "ONLINE"
                                },
                                {
                                    "0": "model",
                                    "1": "150",
                                    "2": "FULL",
                                    "3": "ONLINE"
                                },
                                {
                                    "0": "msdb",
                                    "1": "150",
                                    "2": "SIMPLE",
                                    "3": "ONLINE"
                                },
                                {
                                    "0": "AdventureWorks",
                                    "1": "150",
                                    "2": "SIMPLE",
                                    "3": "ONLINE"
                                },
                                {
                                    "0": "AdventureWorks2012",
                                    "1": "150",
                                    "2": "SIMPLE",
                                    "3": "ONLINE"
                                },
                                {
                                    "0": "WideWorldImportersDW",
                                    "1": "130",
                                    "2": "SIMPLE",
                                    "3": "ONLINE"
                                },
                                {
                                    "0": "test",
                                    "1": "150",
                                    "2": "FULL",
                                    "3": "ONLINE"
                                },
                                {
                                    "0": "COVID",
                                    "1": "150",
                                    "2": "FULL",
                                    "3": "ONLINE"
                                },
                                {
                                    "0": "Notebook_results",
                                    "1": "150",
                                    "2": "FULL",
                                    "3": "ONLINE"
                                }
                            ]
                        },
                        "text/html": "<table><tr><th>name</th><th>compatibility_level</th><th>recovery_model_desc</th><th>state_desc</th></tr><tr><td>master</td><td>150</td><td>SIMPLE</td><td>ONLINE</td></tr><tr><td>tempdb</td><td>150</td><td>SIMPLE</td><td>ONLINE</td></tr><tr><td>model</td><td>150</td><td>FULL</td><td>ONLINE</td></tr><tr><td>msdb</td><td>150</td><td>SIMPLE</td><td>ONLINE</td></tr><tr><td>AdventureWorks</td><td>150</td><td>SIMPLE</td><td>ONLINE</td></tr><tr><td>AdventureWorks2012</td><td>150</td><td>SIMPLE</td><td>ONLINE</td></tr><tr><td>WideWorldImportersDW</td><td>130</td><td>SIMPLE</td><td>ONLINE</td></tr><tr><td>test</td><td>150</td><td>FULL</td><td>ONLINE</td></tr><tr><td>COVID</td><td>150</td><td>FULL</td><td>ONLINE</td></tr><tr><td>Notebook_results</td><td>150</td><td>FULL</td><td>ONLINE</td></tr></table>"
                    },
                    "metadata": {}
                }
            ],
            "execution_count": 6
        },
        {
            "cell_type": "markdown",
            "source": [
                "Login server role permissions"
            ],
            "metadata": {
                "azdata_cell_guid": "fe841ee1-e7e6-4efd-84a0-a40316ce62c4"
            },
            "attachments": {}
        },
        {
            "cell_type": "code",
            "source": [
                "SELECT name,CASE WHEN isntgroup =1 AND isntuser=0 THEN 'Windows Group'\r\n",
                "    WHEN isntgroup =0 AND isntuser=1 THEN 'Windows Login'\r\n",
                "    ELSE 'SQL Login' END AS 'Login Type',dbname,\r\n",
                "    CASE WHEN sysadmin = 1 THEN 'sysadmin'\r\n",
                "          WHEN securityadmin=1 THEN 'securityadmin'\r\n",
                "          WHEN serveradmin=1 THEN 'serveradmin'\r\n",
                "          WHEN setupadmin=1 THEN 'setupadmin'\r\n",
                "          WHEN processadmin=1 THEN 'processadmin'\r\n",
                "          WHEN diskadmin=1 THEN 'diskadmin'\r\n",
                "          WHEN dbcreator=1 THEN 'dbcreator'\r\n",
                "          WHEN bulkadmin=1 THEN 'bulkadmin'\r\n",
                "          ELSE 'Public' END AS 'ServerRole' FROM master.dbo.syslogins"
            ],
            "metadata": {
                "azdata_cell_guid": "e204e24d-5758-4a0a-b609-583775a0660d"
            },
            "outputs": [
                {
                    "output_type": "display_data",
                    "data": {
                        "text/html": "(17 rows affected)"
                    },
                    "metadata": {}
                },
                {
                    "output_type": "display_data",
                    "data": {
                        "text/html": "Total execution time: 00:00:00.029"
                    },
                    "metadata": {}
                },
                {
                    "output_type": "execute_result",
                    "execution_count": 7,
                    "data": {
                        "application/vnd.dataresource+json": {
                            "schema": {
                                "fields": [
                                    {
                                        "name": "name"
                                    },
                                    {
                                        "name": "Login Type"
                                    },
                                    {
                                        "name": "dbname"
                                    },
                                    {
                                        "name": "ServerRole"
                                    }
                                ]
                            },
                            "data": [
                                {
                                    "0": "sa",
                                    "1": "SQL Login",
                                    "2": "master",
                                    "3": "sysadmin"
                                },
                                {
                                    "0": "##MS_SQLResourceSigningCertificate##",
                                    "1": "SQL Login",
                                    "2": "master",
                                    "3": "Public"
                                },
                                {
                                    "0": "##MS_SQLReplicationSigningCertificate##",
                                    "1": "SQL Login",
                                    "2": "master",
                                    "3": "Public"
                                },
                                {
                                    "0": "##MS_SQLAuthenticatorCertificate##",
                                    "1": "SQL Login",
                                    "2": "master",
                                    "3": "Public"
                                },
                                {
                                    "0": "##MS_PolicySigningCertificate##",
                                    "1": "SQL Login",
                                    "2": "master",
                                    "3": "Public"
                                },
                                {
                                    "0": "##MS_SmoExtendedSigningCertificate##",
                                    "1": "SQL Login",
                                    "2": "master",
                                    "3": "Public"
                                },
                                {
                                    "0": "##MS_PolicyEventProcessingLogin##",
                                    "1": "SQL Login",
                                    "2": "master",
                                    "3": "Public"
                                },
                                {
                                    "0": "##MS_PolicyTsqlExecutionLogin##",
                                    "1": "SQL Login",
                                    "2": "master",
                                    "3": "Public"
                                },
                                {
                                    "0": "##MS_AgentSigningCertificate##",
                                    "1": "SQL Login",
                                    "2": "master",
                                    "3": "Public"
                                },
                                {
                                    "0": "DESKTOP-SV5TDG6\\deept",
                                    "1": "Windows Login",
                                    "2": "master",
                                    "3": "sysadmin"
                                },
                                {
                                    "0": "NT SERVICE\\SQLWriter",
                                    "1": "Windows Login",
                                    "2": "master",
                                    "3": "sysadmin"
                                },
                                {
                                    "0": "NT SERVICE\\Winmgmt",
                                    "1": "Windows Login",
                                    "2": "master",
                                    "3": "sysadmin"
                                },
                                {
                                    "0": "NT Service\\MSSQLSERVER",
                                    "1": "Windows Login",
                                    "2": "master",
                                    "3": "sysadmin"
                                },
                                {
                                    "0": "NT AUTHORITY\\SYSTEM",
                                    "1": "Windows Login",
                                    "2": "master",
                                    "3": "Public"
                                },
                                {
                                    "0": "NT SERVICE\\SQLSERVERAGENT",
                                    "1": "Windows Login",
                                    "2": "master",
                                    "3": "sysadmin"
                                },
                                {
                                    "0": "NT SERVICE\\SQLTELEMETRY",
                                    "1": "Windows Login",
                                    "2": "master",
                                    "3": "Public"
                                },
                                {
                                    "0": "username",
                                    "1": "SQL Login",
                                    "2": "master",
                                    "3": "Public"
                                }
                            ]
                        },
                        "text/html": "<table><tr><th>name</th><th>Login Type</th><th>dbname</th><th>ServerRole</th></tr><tr><td>sa</td><td>SQL Login</td><td>master</td><td>sysadmin</td></tr><tr><td>##MS_SQLResourceSigningCertificate##</td><td>SQL Login</td><td>master</td><td>Public</td></tr><tr><td>##MS_SQLReplicationSigningCertificate##</td><td>SQL Login</td><td>master</td><td>Public</td></tr><tr><td>##MS_SQLAuthenticatorCertificate##</td><td>SQL Login</td><td>master</td><td>Public</td></tr><tr><td>##MS_PolicySigningCertificate##</td><td>SQL Login</td><td>master</td><td>Public</td></tr><tr><td>##MS_SmoExtendedSigningCertificate##</td><td>SQL Login</td><td>master</td><td>Public</td></tr><tr><td>##MS_PolicyEventProcessingLogin##</td><td>SQL Login</td><td>master</td><td>Public</td></tr><tr><td>##MS_PolicyTsqlExecutionLogin##</td><td>SQL Login</td><td>master</td><td>Public</td></tr><tr><td>##MS_AgentSigningCertificate##</td><td>SQL Login</td><td>master</td><td>Public</td></tr><tr><td>DESKTOP-SV5TDG6\\deept</td><td>Windows Login</td><td>master</td><td>sysadmin</td></tr><tr><td>NT SERVICE\\SQLWriter</td><td>Windows Login</td><td>master</td><td>sysadmin</td></tr><tr><td>NT SERVICE\\Winmgmt</td><td>Windows Login</td><td>master</td><td>sysadmin</td></tr><tr><td>NT Service\\MSSQLSERVER</td><td>Windows Login</td><td>master</td><td>sysadmin</td></tr><tr><td>NT AUTHORITY\\SYSTEM</td><td>Windows Login</td><td>master</td><td>Public</td></tr><tr><td>NT SERVICE\\SQLSERVERAGENT</td><td>Windows Login</td><td>master</td><td>sysadmin</td></tr><tr><td>NT SERVICE\\SQLTELEMETRY</td><td>Windows Login</td><td>master</td><td>Public</td></tr><tr><td>username</td><td>SQL Login</td><td>master</td><td>Public</td></tr></table>"
                    },
                    "metadata": {}
                }
            ],
            "execution_count": 7
        }
    ]
}